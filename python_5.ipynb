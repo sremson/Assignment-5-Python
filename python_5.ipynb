{
 "cells": [
  {
   "cell_type": "markdown",
   "id": "2d492a54-a0b8-49db-acac-795351035aa3",
   "metadata": {},
   "source": [
    "Assignment 5 - Machine Learning in Python"
   ]
  },
  {
   "cell_type": "markdown",
   "id": "a7222c9d-c838-4ea9-89cb-ed0fef5c988f",
   "metadata": {},
   "source": [
    "**Author**: Sandy Remson\n",
    "**Date**: whenever i submit this\n",
    "**Environment**: see environment.yml\n",
    "**Description**: This notebook explores basic machine learning using scikit-learn, including data preparation, model training, and evaluation."
   ]
  },
  {
   "cell_type": "code",
   "execution_count": 5,
   "id": "b9e39ad2-67de-4876-9f9c-6ff7a1e3b95f",
   "metadata": {},
   "outputs": [
    {
     "name": "stdout",
     "output_type": "stream",
     "text": [
      "Python: 3.13.5 | packaged by conda-forge | (main, Jun 16 2025, 08:27:50) [GCC 13.3.0]\n",
      "scipy: 1.16.0\n",
      "numpy: 2.3.1\n",
      "matplotlib: 3.10.3\n",
      "pandas: 2.3.1\n",
      "sklearn: 1.7.0\n"
     ]
    }
   ],
   "source": [
    "# Python version\n",
    "import sys\n",
    "print('Python: {}'.format(sys.version))\n",
    "# scipy\n",
    "import scipy\n",
    "print('scipy: {}'.format(scipy.__version__))\n",
    "# numpy\n",
    "import numpy\n",
    "print('numpy: {}'.format(numpy.__version__))\n",
    "# matplotlib\n",
    "import matplotlib\n",
    "print('matplotlib: {}'.format(matplotlib.__version__))\n",
    "# pandas\n",
    "import pandas\n",
    "print('pandas: {}'.format(pandas.__version__))\n",
    "# scikit-learn\n",
    "import sklearn\n",
    "print('sklearn: {}'.format(sklearn.__version__))"
   ]
  },
  {
   "cell_type": "code",
   "execution_count": null,
   "id": "15be5daf-de3e-45d4-9d89-32c4a5adc352",
   "metadata": {},
   "outputs": [],
   "source": []
  }
 ],
 "metadata": {
  "kernelspec": {
   "display_name": "Python (python_5_env)",
   "language": "python",
   "name": "python_5_env"
  },
  "language_info": {
   "codemirror_mode": {
    "name": "ipython",
    "version": 3
   },
   "file_extension": ".py",
   "mimetype": "text/x-python",
   "name": "python",
   "nbconvert_exporter": "python",
   "pygments_lexer": "ipython3",
   "version": "3.13.5"
  }
 },
 "nbformat": 4,
 "nbformat_minor": 5
}
